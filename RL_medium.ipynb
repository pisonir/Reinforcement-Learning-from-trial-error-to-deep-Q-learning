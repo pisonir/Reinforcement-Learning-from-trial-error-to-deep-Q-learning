{
 "cells": [
  {
   "cell_type": "markdown",
   "metadata": {
    "id": "qPkIcN-_J-w7"
   },
   "source": [
    "# Reinforcement Learning: from trial & error to deep Q-learning"
   ]
  },
  {
   "cell_type": "markdown",
   "metadata": {
    "id": "n_eVXngVMy5v"
   },
   "source": [
    "\n",
    "My objective with this article is to introduce Reinforcement Learning (RL) basics with hands-on examples. I'm going to cover only a few foundational RL concepts needed to understand the practical examples.\n",
    "\n",
    "Although no previous RL knowledge is required, solid Python coding skills and basic machine learning understanding are necessary to follow the content of this article. \n",
    "\n",
    "# The Reinforcement Learning Problem\n",
    "\n",
    "In simple words, RL is a computational approach used to achieve a pre-defined goal, that can be winning a chess game, optimizing a medical treatment or improving a financial trading strategy. RL algorithms are used to answer questions such as:\n",
    "- what is the best apporach to achieve my goal?\n",
    "- Which actions will get me closer to the objective? \n",
    "- How will the system react an action?\n",
    "\n",
    "The goal is to maximize a numerical reward by learning to map situations to actions. This mapping happens through interactions with the environment, i.e. taking actions and observing the consequences of such actions. \n",
    "\n",
    "**Elements of Reinforcement Learning**\n",
    "\n",
    "The following definitions might be confusing at first but they will definitely become clearer once we dive into the practical examples.\n",
    "\n",
    "- *Agent*: it's the system we want to operate, the model we want to build and train with RL. A learning agent has three main characteristics:\n",
    "  *   it has explicit goals,\n",
    "  *   it can sense aspects of its environment,\n",
    "  *  it can choose actions to influence its environment.\n",
    "  \n",
    "\n",
    "- *Environment*: define anything the agent can interact with. \n",
    "- *Action*: an action that the agent takes to interact with the environment. \n",
    "- *State*: it represents the observation of the environment after an action is taken. \n",
    "- *Policy*: it defines the learning agent's way of behaving at a given time. A policy is a function that takes as input the environment's state, at a given time, and returns an action.\n",
    "it can be a simple lookup table, a function or a more extensive search process. In general, policies are stochastic.\n",
    "- *Reward*: it is a signal, a single number. The goal of the learning agent is to increase this number. The reward depends on the current agent's action and environment's state. The learning agent can influence the reward signal in two ways,\n",
    "  - directly through its actions,\n",
    "  - indirectly through changing the environment's state.\n",
    "\n",
    "- *Value*: it is the expected total reward starting from a specific state. While reward defines what is good in the immediate, value defines what is good in the long run. Although, value is secondary, it could not exist without reward, it is the most important component of almost all reinforcement learning algorithms. As a matter of fact, we seek for actions that yield states of highest value, not highest reward. For example a state might yield a low immediate reward but still have a high value because it is regularly followed by other states that yield high rewards, or viceversa. It is much harder to determine values than it is to determine rewards, values must be estimated and re-estimated from the sequences of observations an agent makes over its entire lifetime.\n",
    "- Model of the environment: it mimics the behavior of the environment. Given a state and an action the model predicts the next state and reward. Models of the environemnt are used for planning, deciding a course of actions by considering possible future situations. Methods to solve reinforcement learning problems can be either model-based, model-free (trial and error) or the two combined.\n",
    "\n",
    "**Markov Decision Process**\n",
    "\n",
    "There are few frameworks one can use when working with RL. Here we consider the Markov Decision Process framework.\n",
    "Markov Decision Processes (MDPs) are a formalization of sequential decision processes, where each action affects, not only the immediate reward, but all the subsequent states and therefore future rewards. The MDP framework determines that every goal-oriented decision process can be reduced to only three signals exchanged between agent and environment. These signals are \n",
    "\n",
    "\n",
    "1.   The agent's choices (actions)\n",
    "2.   The basis on which these choices were made (state)\n",
    "3.   The agent's goal (reward)\n",
    "\n",
    "\n",
    "To make our life easier we will only consider *finite* MDPs. In a *finite* MDP the sets of states, actions and rewards have a finite number of elements. \n",
    "The most important characteristic of a MDP is that the reward and new state depend only on the immediately preceding state and action. The preceding state must include all the information of past agent-environment interactions. If it does, then the state is said to have the *Markov property*.\n",
    "\n",
    "A MDP can be visualized with the following diagram. Each timestep, the agent chooses an `action` in a `state`, and the environment returns an `observation` (i.e. a new state) and a `reward`.\n",
    "\n",
    "![learning system loop](imgs/MDP_2x@2x.png)\n",
    "\n",
    "**The exploration - exploitation dilemma**\n",
    "\n",
    "A RL agent needs to find the right balance between exploring the environment, looking for new ways to get rewards, and exploiting the reward sources it has already discovered.\n",
    "\n",
    "To maximize its reward, an agent must prefer actions that it tried in the past and produced reward. In order to discover these actions, the agent must try actions that it has not tried before. It has to *exploit* what it already knows in order to obtain reward, but it also has to *explore* in order to make better choices in the future. Neither exploitation nor exploration can be pursued exclusively without failing at the task. It's a trade off, the agent must balance exploration and exploitation by trying a variety of actions and progressively favor those who appear to produce reward."
   ]
  },
  {
   "cell_type": "markdown",
   "metadata": {
    "id": "axausc-PoV_A"
   },
   "source": [
    "# The Glass Bridge Challenge\n",
    "\n",
    "We are going to re-create the infamous Glass Bridge challenge from the Netflix series *Squid Game* episode 7.\n",
    "\n",
    "The agent controls the movement of a character in a grid. The character must cross from one side of the bridge to the other - the only catch being that not all the tiles of the bridge are made of tempered glass, some are regular glass that instantly shatters under the weight of the character.\n",
    "\n",
    "![glass bridge challenge](imgs/glass_bridge_2x@2x.png)\n",
    "\n",
    "\n",
    "The agent is rewarded for finding a walkable path to the goal tile (labelled with G), that is the last tile of the bridge made of tempered glass.\n",
    "\n",
    "- The character is the **agent**.\n",
    "- The glass bridge is the **environment**.\n",
    "- Reaching the goal, i.e. crossing the entire bridge without falling, returns a **reward** != 0.\n",
    "- the possible character movements, moving to the next adjacent tile or the opposite one, are the **actions**.\n",
    "- At each action the position of the character changes, the position is the environment's **state**.\n",
    "- A trajectory from start to termination is called an **episode**. The trajectory terminates when the termination condition is met. The termination condition could be achieving the goal, or stepping on a regular glass tile."
   ]
  },
  {
   "cell_type": "markdown",
   "metadata": {
    "id": "HOTvz6sGuhuC"
   },
   "source": [
    "## OpenAI Gym\n",
    "\n",
    "the OpenAI gym library is a collection of test problems, known as environments, that one can use to work out reinforcement learning algorithms."
   ]
  },
  {
   "cell_type": "code",
   "execution_count": 1,
   "metadata": {
    "id": "AhrlMmiZlMeW"
   },
   "outputs": [],
   "source": [
    "import sys\n",
    "import gym\n",
    "import numpy as np\n",
    "import matplotlib.pyplot as plt\n",
    "\n",
    "from IPython.display import clear_output\n",
    "from io import StringIO\n",
    "from contextlib import closing\n",
    "from tqdm import tqdm\n",
    "from gym import utils\n",
    "from gym.envs.toy_text import discrete\n",
    "\n",
    "np.set_printoptions(precision=2, suppress=True)"
   ]
  },
  {
   "cell_type": "markdown",
   "metadata": {
    "id": "SID9Cx2lMxFI"
   },
   "source": [
    "## Crossing the glass bridge - trial and error\n",
    "Let's start by understanding the state-action-reward framework.\n",
    "\n",
    "Here I'm adapting the `FrozenLakeEnv` [Github](https://github.com/openai/gym/blob/master/gym/envs/toy_text/frozen_lake.py) defined in the Gym library to re-create the glass bridge from *Squid Game* episode 7 (Netflix)."
   ]
  },
  {
   "cell_type": "code",
   "execution_count": 2,
   "metadata": {
    "id": "SS0u0BFDuZZe"
   },
   "outputs": [],
   "source": [
    "#@title GlassBridgeEnv\n",
    "RIGHT = 0\n",
    "DIAGONAL = 1\n",
    "\n",
    "MAP = {\n",
    "    \"8x2\": [\"STRRTRTR\",\"RRTTRTRG\"]\n",
    "}\n",
    "\n",
    "class GlassBridgeEnv(discrete.DiscreteEnv):\n",
    "    \"\"\"\n",
    "    Squid Game episode 7: crossing the glass bridge.\n",
    "\n",
    "    --> _|_|_|_|_|_|_|_|\n",
    "        _|_|_|_|_|_|_|_| -->\n",
    "\n",
    "    The surface is described using a grid like the following\n",
    "        STRRTRTRRTRRR \n",
    "        RRTTRTRTTRTTG\n",
    "    S : starting point, safe\n",
    "    T : tempered glass, safe\n",
    "    R : regular glass, fall to your doom\n",
    "    G : goal, where you will be ending your game\n",
    "    The episode ends when you reach the goal or step on a regular glass tile.\n",
    "    You receive a reward of 1 if you reach the goal, and zero otherwise.\n",
    "    \"\"\"\n",
    "\n",
    "    metadata = {\"render.modes\": [\"human\", \"ansi\"]}\n",
    "\n",
    "    def __init__(self, desc=None, map_name=\"8x2\", is_slippery=True):\n",
    "        if desc is None and map_name is None:\n",
    "            desc = generate_random_map()\n",
    "        elif desc is None:\n",
    "            desc = MAP[map_name]\n",
    "        self.desc = desc = np.asarray(desc, dtype=\"c\")\n",
    "        self.nrow, self.ncol = nrow, ncol = desc.shape\n",
    "        self.reward_range = (0, 1)\n",
    "\n",
    "        nA = 2 # Number of possible actions.\n",
    "        nS = nrow * ncol # Number of possible states.\n",
    "\n",
    "        # Initial state distribution.\n",
    "        isd = np.array(desc == b\"S\").astype(\"float64\").ravel() \n",
    "        isd /= isd.sum() \n",
    "\n",
    "        P = {s: {a: [] for a in range(nA)} for s in range(nS)} # Transitions.\n",
    "\n",
    "        def to_s(row: int, col: int) -> int:\n",
    "            \"\"\"\n",
    "            to state (row,col).\n",
    "\n",
    "            Returns the new state.\n",
    "            \"\"\"\n",
    "            return row * ncol + col\n",
    "\n",
    "        def inc(row: int, col: int, action: int) -> tuple:\n",
    "            \"\"\"\n",
    "            Increment.\n",
    "\n",
    "            Returns the new (row, col), after an action is taken.\n",
    "            \"\"\"\n",
    "            if action == RIGHT:\n",
    "                col = min(col + 1, ncol - 1)\n",
    "            elif action == DIAGONAL:\n",
    "                col = min(col + 1, ncol - 1)\n",
    "                if row == 0:\n",
    "                    row = 1\n",
    "                elif row == 1:\n",
    "                    row = 0 \n",
    "            return (row, col)\n",
    "\n",
    "        def update_probability_matrix(row: int, col: int, action: int) -> list:\n",
    "            \"\"\"\n",
    "            Returns newstate, reward and a flag indicating whether episode is finished, following action.\n",
    "            \"\"\"\n",
    "            newrow, newcol = inc(row, col, action)\n",
    "            newstate = to_s(newrow, newcol)\n",
    "            newletter = desc[newrow, newcol]\n",
    "            done = bytes(newletter) in b\"GR\"\n",
    "            reward = float(newletter == b\"G\")\n",
    "            return newstate, reward, done\n",
    "\n",
    "        for row in range(nrow):\n",
    "            for col in range(ncol):\n",
    "                s = to_s(row, col)\n",
    "                for a in range(2):\n",
    "                    li = P[s][a]\n",
    "                    letter = desc[row, col]\n",
    "                    if letter in b\"GR\":\n",
    "                        li.append((1.0, s, 0, True)) # (probability, nextstate, reward, done)\n",
    "                    else:\n",
    "                        if is_slippery:\n",
    "                            li.append((0.8, *update_probability_matrix(row, col, a)))\n",
    "                            # Small proabability that the environemnt returns the other action\n",
    "                            li.append((0.2, *update_probability_matrix(row, col, (a+3)%2)))\n",
    "                        else:\n",
    "                            li.append((1.0, *update_probability_matrix(row, col, a)))\n",
    "        print(f\"li: {li}\")\n",
    "        super(GlassBridgeEnv, self).__init__(nS, nA, P, isd) # Calls the parent class discrete.DiscreteEnv\n",
    "\n",
    "    def render(self, mode=\"human\"):\n",
    "        outfile = StringIO() if mode == \"ansi\" else sys.stdout\n",
    "\n",
    "        row, col = self.s // self.ncol, self.s % self.ncol\n",
    "        desc = self.desc.tolist()\n",
    "        desc = [[c.decode(\"utf-8\") for c in line] for line in desc]\n",
    "        desc[row][col] = utils.colorize(desc[row][col], \"red\", highlight=True)\n",
    "        if self.lastaction is not None:\n",
    "            outfile.write(\n",
    "                \"  ({})\\n\".format([\"Right\", \"Diagonal\"][self.lastaction])\n",
    "            )\n",
    "        else:\n",
    "            outfile.write(\"\\n\")\n",
    "        outfile.write(\"\\n\".join(\"\".join(line) for line in desc) + \"\\n\")\n",
    "\n",
    "        if mode != \"human\":\n",
    "            with closing(outfile):\n",
    "                return outfile.getvalue()"
   ]
  },
  {
   "cell_type": "markdown",
   "metadata": {
    "id": "vvd30QTaUZwZ"
   },
   "source": [
    "Each episode starts by calling `reset()`, which returns an initial `observation` (or environment's state). The actions are randomly sampled (policy) from the environment's action space. The possible actions are:     \n",
    "- RIGHT: move to the adjacent tile on your right (the bridge crosses left to right)\n",
    "- DIAGONAL: move diagonally (i.e. move to the next not adjacent glass tile)\n",
    "\n",
    "In addition, for each action, the environment might return, with a small probability (20%), the result of the alternative action. For example, action `DIAGONAL` might return the agent on the right adjacent glass tile, while `RIGHT` might advance the agent diagonally."
   ]
  },
  {
   "cell_type": "code",
   "execution_count": 3,
   "metadata": {
    "executionInfo": {
     "elapsed": 56,
     "status": "ok",
     "timestamp": 1642355380773,
     "user": {
      "displayName": "Riccardo Pisoni",
      "photoUrl": "https://lh3.googleusercontent.com/a-/AOh14GhIGKGMiSf8BzgUVsZnBRnoZbPC-FSvEzoPyfF_=s64",
      "userId": "15979285378475721637"
     },
     "user_tz": -60
    },
    "id": "vcR5uG7THpjh",
    "outputId": "8fca77b2-3093-4cfc-bad2-99419537581b"
   },
   "outputs": [
    {
     "name": "stdout",
     "output_type": "stream",
     "text": [
      "li: [(1.0, 15, 0, True)]\n",
      "\n",
      "\u001b[41mS\u001b[0mTRRTRTR\n",
      "RRTTRTRG\n",
      "0\n",
      "  (Right)\n",
      "S\u001b[41mT\u001b[0mRRTRTR\n",
      "RRTTRTRG\n",
      "1\n",
      "Episode finished after 2 timesteps\n",
      "\n",
      "\u001b[41mS\u001b[0mTRRTRTR\n",
      "RRTTRTRG\n",
      "0\n",
      "Episode finished after 1 timesteps\n",
      "\n",
      "\u001b[41mS\u001b[0mTRRTRTR\n",
      "RRTTRTRG\n",
      "0\n",
      "Episode finished after 1 timesteps\n",
      "\n",
      "\u001b[41mS\u001b[0mTRRTRTR\n",
      "RRTTRTRG\n",
      "0\n",
      "Episode finished after 1 timesteps\n",
      "\n",
      "\u001b[41mS\u001b[0mTRRTRTR\n",
      "RRTTRTRG\n",
      "0\n",
      "  (Right)\n",
      "S\u001b[41mT\u001b[0mRRTRTR\n",
      "RRTTRTRG\n",
      "1\n",
      "Episode finished after 2 timesteps\n",
      "\n",
      "\u001b[41mS\u001b[0mTRRTRTR\n",
      "RRTTRTRG\n",
      "0\n",
      "  (Diagonal)\n",
      "S\u001b[41mT\u001b[0mRRTRTR\n",
      "RRTTRTRG\n",
      "1\n",
      "Episode finished after 2 timesteps\n",
      "\n",
      "\u001b[41mS\u001b[0mTRRTRTR\n",
      "RRTTRTRG\n",
      "0\n",
      "  (Diagonal)\n",
      "S\u001b[41mT\u001b[0mRRTRTR\n",
      "RRTTRTRG\n",
      "1\n",
      "Episode finished after 2 timesteps\n",
      "\n",
      "\u001b[41mS\u001b[0mTRRTRTR\n",
      "RRTTRTRG\n",
      "0\n",
      "  (Diagonal)\n",
      "S\u001b[41mT\u001b[0mRRTRTR\n",
      "RRTTRTRG\n",
      "1\n",
      "Episode finished after 2 timesteps\n",
      "\n",
      "\u001b[41mS\u001b[0mTRRTRTR\n",
      "RRTTRTRG\n",
      "0\n",
      "  (Right)\n",
      "S\u001b[41mT\u001b[0mRRTRTR\n",
      "RRTTRTRG\n",
      "1\n",
      "Episode finished after 2 timesteps\n",
      "\n",
      "\u001b[41mS\u001b[0mTRRTRTR\n",
      "RRTTRTRG\n",
      "0\n",
      "  (Right)\n",
      "S\u001b[41mT\u001b[0mRRTRTR\n",
      "RRTTRTRG\n",
      "1\n",
      "  (Diagonal)\n",
      "STRRTRTR\n",
      "RR\u001b[41mT\u001b[0mTRTRG\n",
      "10\n",
      "  (Right)\n",
      "STRRTRTR\n",
      "RRT\u001b[41mT\u001b[0mRTRG\n",
      "11\n",
      "  (Right)\n",
      "STRR\u001b[41mT\u001b[0mRTR\n",
      "RRTTRTRG\n",
      "4\n",
      "Episode finished after 5 timesteps\n",
      "\n",
      "\u001b[41mS\u001b[0mTRRTRTR\n",
      "RRTTRTRG\n",
      "0\n",
      "  (Right)\n",
      "S\u001b[41mT\u001b[0mRRTRTR\n",
      "RRTTRTRG\n",
      "1\n",
      "  (Diagonal)\n",
      "STRRTRTR\n",
      "RR\u001b[41mT\u001b[0mTRTRG\n",
      "10\n",
      "  (Right)\n",
      "STRRTRTR\n",
      "RRT\u001b[41mT\u001b[0mRTRG\n",
      "11\n",
      "Episode finished after 4 timesteps\n",
      "\n",
      "\u001b[41mS\u001b[0mTRRTRTR\n",
      "RRTTRTRG\n",
      "0\n",
      "Episode finished after 1 timesteps\n",
      "\n",
      "\u001b[41mS\u001b[0mTRRTRTR\n",
      "RRTTRTRG\n",
      "0\n",
      "  (Right)\n",
      "S\u001b[41mT\u001b[0mRRTRTR\n",
      "RRTTRTRG\n",
      "1\n",
      "Episode finished after 2 timesteps\n",
      "\n",
      "\u001b[41mS\u001b[0mTRRTRTR\n",
      "RRTTRTRG\n",
      "0\n",
      "Episode finished after 1 timesteps\n",
      "\n",
      "\u001b[41mS\u001b[0mTRRTRTR\n",
      "RRTTRTRG\n",
      "0\n",
      "  (Right)\n",
      "S\u001b[41mT\u001b[0mRRTRTR\n",
      "RRTTRTRG\n",
      "1\n",
      "Episode finished after 2 timesteps\n",
      "\n",
      "\u001b[41mS\u001b[0mTRRTRTR\n",
      "RRTTRTRG\n",
      "0\n",
      "Episode finished after 1 timesteps\n",
      "\n",
      "\u001b[41mS\u001b[0mTRRTRTR\n",
      "RRTTRTRG\n",
      "0\n",
      "Episode finished after 1 timesteps\n",
      "\n",
      "\u001b[41mS\u001b[0mTRRTRTR\n",
      "RRTTRTRG\n",
      "0\n",
      "Episode finished after 1 timesteps\n",
      "\n",
      "\u001b[41mS\u001b[0mTRRTRTR\n",
      "RRTTRTRG\n",
      "0\n",
      "  (Diagonal)\n",
      "S\u001b[41mT\u001b[0mRRTRTR\n",
      "RRTTRTRG\n",
      "1\n",
      "  (Diagonal)\n",
      "STRRTRTR\n",
      "RR\u001b[41mT\u001b[0mTRTRG\n",
      "10\n",
      "Episode finished after 3 timesteps\n",
      "\n",
      "\u001b[41mS\u001b[0mTRRTRTR\n",
      "RRTTRTRG\n",
      "0\n",
      "  (Right)\n",
      "S\u001b[41mT\u001b[0mRRTRTR\n",
      "RRTTRTRG\n",
      "1\n",
      "  (Right)\n",
      "STRRTRTR\n",
      "RR\u001b[41mT\u001b[0mTRTRG\n",
      "10\n",
      "  (Right)\n",
      "STRRTRTR\n",
      "RRT\u001b[41mT\u001b[0mRTRG\n",
      "11\n",
      "Episode finished after 4 timesteps\n"
     ]
    }
   ],
   "source": [
    "env = GlassBridgeEnv()\n",
    "for i_episode in range(20):\n",
    "    newstate = env.reset()\n",
    "    for t in range(10):\n",
    "        env.render()\n",
    "        print(newstate)\n",
    "        action = env.action_space.sample()\n",
    "        newstate, reward, done, info = env.step(action)\n",
    "        if done:\n",
    "            print(\"Episode finished after {} timesteps\".format(t+1))\n",
    "            break\n",
    "    \n",
    "env.close()"
   ]
  },
  {
   "cell_type": "markdown",
   "metadata": {
    "id": "4RM4YI9i4zgG"
   },
   "source": [
    "The 1st line instantiates a GlassBridge environment.\n",
    "We then loop through 20 episodes.\n",
    "In each episode we reset to the starting glass tile (3rd line).\n",
    "At each time step `t` the agent in a state selects an action, as a result, it receives a numerical reward and finds itself in a new state.\n",
    "In details:\n",
    "\n",
    "The 5th line displays the game.\n",
    "\n",
    "The 7th line prompts an action which is randomly picked.\n",
    "\n",
    "On the 8th line, the action is taken and the environment gives four returns:\n",
    "- `newstate`: an integer representing the position of the agent (see illustration below) after taking `action`.\n",
    "- `reward`: $1$ if `newstate` == goal tile, $0$ otherwise.\n",
    "- `done`: a flag indicating whether the game is over (stepping on regular glass or crossing the bridge safely) or not.\n",
    "- `info`: extra debug information.\n",
    "The 9th line means if the game is done; start a new episode.\n",
    "\n",
    "By recording the agent transitions we can map out the environment. The sequence of these transitions is the agent's *trajectory*.\n",
    "\n",
    "We can directly visualize all the possible trajectories with the following map.\n",
    "\n",
    "![environment map](imgs/env_map2x@2x.png)\n",
    "\n",
    "Recalling MDP, suppose we are in state 6. We know that moving diagonally (action 1) would return a finite reward with high probability. This probability only depends on the current state 6, and not on the previous sequence of states. This is an example of the Markov property."
   ]
  },
  {
   "cell_type": "markdown",
   "metadata": {
    "id": "XAXcdAq2KhRN"
   },
   "source": [
    "## Q-learning\n",
    "\n",
    "There is always at least one policy that is better than or equal to all other policies. This is called an *optimal policy*.\n",
    "An optimal policy is characterized by an *optimal action-value function*, denoted $q^{*} (s,a)$. For the state-action pair ($s,a$), this function gives the expected return for taking action $a$ in state $s$, following an optimal policy.\n",
    "\n",
    "Let's now introduce an algorithm known as *Q-learning* (Watkins, 1989). The *Q-learning* algorithm allows us to define a *Q* function that directly approximates $q^{*}$.\n",
    "\n",
    "We want to calculate the return, not the immediate reward. At a given time *t*, for a given state-action pair, the **return** is the sum of all rewards until the episode terminates,\n",
    "\n",
    "$$ Q(s_t,a_t) = r_{s_t,a_t} + r_{s_{t+1},a_{t+1}} + \\ldots + r_{s_{t+n-1}, a_{t+n-1}} $$\n",
    "\n",
    "In the above formula, the return, denoted as $Q$, treats equally rewards that will come later with immediate rewards. However, we should take into account that immediate rewards are more desirable and account for delayed future rewards with a discount factor $\\gamma$.\n",
    "\n",
    "$$ Q(s_t,a_t) = r_{s_t,a_t} +  \\gamma r_{s_{t+1},a_{t+1}} + \\gamma^2 r_{s_{t+2},a_{t+2}} + \\ldots + \\gamma^{n-1} r_{s_{t+n-1}, a_{t+n-1}} $$\n",
    "\n",
    "That can be rewritten as\n",
    "$$ Q(s_t,a_t) = r_{s_t,a_t} +  \\gamma Q(s_{t+1},a_{t+1}) $$\n",
    "\n",
    "The agent should choose the action $a_{t+1}$ that maximises return:    \n",
    "$$ Q(s_t,a_t) = r_{s_t,a_t} +  \\gamma \\displaystyle \\max_{\\substack{a_{t+1}}} Q(s_{t+1},a_{t+1}) $$\n",
    "\n",
    "To approximate the optimal action-value function we apply a correction weighted by a learning rate $\\alpha$. By definition, a correction is the difference between the measured action-value function $Q(s_t,a_t)$ and expected action-value function $Q_{expected}(s_t,a_t)$,\n",
    "\n",
    "$$correction =  Q(s_t,a_t) - Q_{expected}(s_t,a_t)$$\n",
    "\n",
    "and\n",
    "\n",
    "$$Q_{updated}(s_t,a_t) \\gets  Q_{expected}(s_t,a_t) + \\alpha \\cdot (Q(s_t,a_t) - Q_{expected}(s_t,a_t))$$\n",
    "\n",
    "which results in\n",
    "\n",
    "$$Q_{updated}(s_t,a_t) \\gets Q_{expected}(s_t,a_t) + \\alpha \\cdot \\left( r_{s_t,a_t} +  \\gamma \\displaystyle \\max_{\\substack{a_{t+1}}} Q(s_{t+1},a_{t+1}) - Q_{expected}(s_t,a_t) \\right)\n",
    "$$\n",
    "\n",
    "The learned action-value function $Q_{updated}(s_t,a_t)$ directly approximates $q^{*}$, the optimal action-value function, independent of the policy being followed. The equation above, to update $Q$, is the famous **Bellman equation**.\n",
    "\n",
    "Let's implement the Bellman equation."
   ]
  },
  {
   "cell_type": "code",
   "execution_count": 4,
   "metadata": {
    "id": "gBv_OY1UWWml"
   },
   "outputs": [
    {
     "name": "stdout",
     "output_type": "stream",
     "text": [
      "li: [(1.0, 15, 0, True)]\n"
     ]
    }
   ],
   "source": [
    "def bellman_update(Q: np.ndarray, learning_rate: float, discount_factor: float, \n",
    "                   reward: float, state: int, newstate: int, action: int) -> np.ndarray:\n",
    "    \"\"\"\n",
    "    Returns the updated Q table using the Bellman equation.\n",
    "    \"\"\"\n",
    "    Q[state, action] = Q[state, action] + learning_rate*(\n",
    "                                   reward + \\\n",
    "                                   discount_factor * np.max(Q[newstate,:]) - \\\n",
    "                                   Q[state, action]\n",
    "                                 )\n",
    "    return Q\n",
    "\n",
    "def run_update_rule(env: GlassBridgeEnv(), Q: np.ndarray, learning_rate: float, discount_factor: float) -> np.ndarray:\n",
    "    \"\"\"\n",
    "    Runs the Bellman update with random policy until the episode terminates. \n",
    "    Returns the updated Q table at the end of the episode.\n",
    "    \"\"\"\n",
    "    state = env.reset()\n",
    "    done = False\n",
    "    while (not done):\n",
    "        action = env.action_space.sample() # random policy.\n",
    "        newstate, reward, done, _ = env.step(action)\n",
    "        Q = bellman_update(Q, learning_rate, discount_factor, reward, state, newstate, action)\n",
    "        state = newstate\n",
    "    return Q"
   ]
  },
  {
   "cell_type": "markdown",
   "metadata": {
    "id": "b0LMds7TZlKZ"
   },
   "source": [
    "`Q` is a table that stores Q values.\n",
    "\n",
    "Let's train the agent to solve the `GlassBridgeEnv` by running multiple episodes. At each episode we update the action-value function using the Bellman equation defined above."
   ]
  },
  {
   "cell_type": "code",
   "execution_count": 5,
   "metadata": {
    "id": "u9oZRuK5ZzH6"
   },
   "outputs": [
    {
     "name": "stdout",
     "output_type": "stream",
     "text": [
      "li: [(1.0, 15, 0, True)]\n"
     ]
    }
   ],
   "source": [
    "num_states = env.observation_space.n\n",
    "num_actions = env.action_space.n\n",
    "\n",
    "def train_agent(env: GlassBridgeEnv(), episodes: int, learning_rate: float, discount_factor: float) -> np.ndarray:\n",
    "    Q = np.zeros([num_states, num_actions])\n",
    "    for episode in range(episodes):\n",
    "        Q = run_update_rule(env, Q, learning_rate, discount_factor)\n",
    "        print(Q)\n",
    "        clear_output(wait = True)\n",
    "    return Q"
   ]
  },
  {
   "cell_type": "code",
   "execution_count": 6,
   "metadata": {
    "executionInfo": {
     "elapsed": 4395,
     "status": "ok",
     "timestamp": 1642355522602,
     "user": {
      "displayName": "Riccardo Pisoni",
      "photoUrl": "https://lh3.googleusercontent.com/a-/AOh14GhIGKGMiSf8BzgUVsZnBRnoZbPC-FSvEzoPyfF_=s64",
      "userId": "15979285378475721637"
     },
     "user_tz": -60
    },
    "id": "k0ckuyOUbKRA",
    "outputId": "172fca78-894a-4e40-a128-c9e8d213587e"
   },
   "outputs": [
    {
     "name": "stderr",
     "output_type": "stream",
     "text": [
      "IOPub message rate exceeded.\n",
      "The notebook server will temporarily stop sending output\n",
      "to the client in order to avoid crashing it.\n",
      "To change this limit, set the config variable\n",
      "`--NotebookApp.iopub_msg_rate_limit`.\n",
      "\n",
      "Current values:\n",
      "NotebookApp.iopub_msg_rate_limit=1000.0 (msgs/sec)\n",
      "NotebookApp.rate_limit_window=3.0 (secs)\n",
      "\n"
     ]
    }
   ],
   "source": [
    "discount_factor = 0.95   \n",
    "learning_rate = 0.1   \n",
    "episodes = 2000   \n",
    "\n",
    "def normalize_Q(Q: np.ndarray) -> np.ndarray:\n",
    "    Q_max = np.max(Q)\n",
    "    if Q_max > 0.0: # if agent never succeeds, then Q_max = 0\n",
    "        Q = (Q/Q_max)*1\n",
    "    return Q\n",
    "\n",
    "Q = train_agent(env, episodes, learning_rate, discount_factor)\n",
    "print(normalize_Q(Q))"
   ]
  },
  {
   "cell_type": "markdown",
   "metadata": {
    "id": "2qbAZU8GnyRh"
   },
   "source": [
    "Note the following characteristics of `Q`:       \n",
    "\n",
    "*   Q-values are normalized in the range [0,1] for readability, where the max value is = 1. This value is actually obtained for the final state-action pair that precedes the goal ($s=6, a=1$).\n",
    "*   Q-values are 0 for the terminal states (the regular glass tiles and the goal state) because no transition occurs from terminal states.\n",
    "*   The higher the Q-value of a state-action pair, the closer that state-action pair is to the goal.\n",
    "\n"
   ]
  },
  {
   "cell_type": "markdown",
   "metadata": {
    "id": "tl4K8w3Gf0So"
   },
   "source": [
    "Let's now compare our trained agent with an agent choosing random actions. The trained agent will choose the actions with the highest Q-value in order to maximize reward. Such policy is known as **greedy policy**. \n",
    "\n",
    "To compare the two agents we calculate the average reward over a finite number of episodes found either by random or greedy policy."
   ]
  },
  {
   "cell_type": "code",
   "execution_count": 10,
   "metadata": {
    "executionInfo": {
     "elapsed": 57,
     "status": "ok",
     "timestamp": 1642355533693,
     "user": {
      "displayName": "Riccardo Pisoni",
      "photoUrl": "https://lh3.googleusercontent.com/a-/AOh14GhIGKGMiSf8BzgUVsZnBRnoZbPC-FSvEzoPyfF_=s64",
      "userId": "15979285378475721637"
     },
     "user_tz": -60
    },
    "id": "9g9kExkRcgcQ",
    "outputId": "f72aec4f-0d39-4bf7-ab45-ca67d480a16b"
   },
   "outputs": [
    {
     "name": "stdout",
     "output_type": "stream",
     "text": [
      "li: [(1.0, 15, 0, True)]\n",
      "Percentage of successful episodes 20.22022022022022%\n"
     ]
    }
   ],
   "source": [
    "policy = 'greedy'   #@param ['greedy', 'random']\n",
    "episodes = 1000   \n",
    "\n",
    "def run_episode(env: GlassBridgeEnv(), Q: np.ndarray, policy: str) -> float:\n",
    "    \"\"\"\n",
    "    Returns the episode total reward, a.k.a episode's return.\n",
    "    \"\"\"\n",
    "    state = env.reset()\n",
    "    done = False\n",
    "    episode_return = 0\n",
    "    while (not done):\n",
    "        if policy == 'random':\n",
    "            action = env.action_space.sample()\n",
    "        elif policy == 'greedy':\n",
    "            action = np.argmax(Q[state, :])\n",
    "        else:\n",
    "            raise Exception(\"Error: policy must be 'random' or 'greedy'\")\n",
    "        newstate, reward, done, _ = env.step(action)\n",
    "        episode_return += reward\n",
    "        state = newstate\n",
    "    return episode_return \n",
    "\n",
    "total_reward = 0\n",
    "for episodes in range(episodes):\n",
    "    total_reward += run_episode(env, Q, policy)\n",
    "print(f\"Percentage of successful episodes {total_reward/episodes*100}%\")"
   ]
  },
  {
   "cell_type": "markdown",
   "metadata": {
    "id": "SNgR4b1FjWDi"
   },
   "source": [
    "The trained agent is superior to the random agent."
   ]
  },
  {
   "cell_type": "markdown",
   "metadata": {
    "id": "YpP6uhNbtMfx"
   },
   "source": [
    "## The exploitation - exploration dilemma\n",
    "\n",
    "Nonetheless, we train the agent for thousands of episodes, the Q-values are still inaccurate. \n",
    "\n",
    "Why is that?!\n",
    "\n",
    "It the beginning, all Q-values are 0, in successive episodes the agent randomly picks an action and by doing this it has a finite probability to find rewarding paths. The caveat is that this random policy doesn't allow the agent to exploit the most rewarding path because it doesn't explore enough paths that could lead to a maximum return.\n",
    "\n",
    "To improve upon random policy, we can use an **epsilon greedy** ($\\epsilon$-greedy) policy instead. This policy works in the following way:     \n",
    "\n",
    "*   At each episode, the agent takes a random action with probability $\\epsilon$ and a greedy action with probability $1-\\epsilon$.\n",
    "*   Over successive episodes the value of $\\epsilon$ decays, switching the policy from random exploration to choosing a path which maximizes reward.\n"
   ]
  },
  {
   "cell_type": "code",
   "execution_count": 51,
   "metadata": {
    "colab": {
     "height": 279
    },
    "executionInfo": {
     "elapsed": 238,
     "status": "ok",
     "timestamp": 1642355540692,
     "user": {
      "displayName": "Riccardo Pisoni",
      "photoUrl": "https://lh3.googleusercontent.com/a-/AOh14GhIGKGMiSf8BzgUVsZnBRnoZbPC-FSvEzoPyfF_=s64",
      "userId": "15979285378475721637"
     },
     "user_tz": -60
    },
    "id": "rO9Io07hwrnN",
    "outputId": "c7aea8e3-8463-4a6a-fde9-fc703ae4e240"
   },
   "outputs": [
    {
     "data": {
      "image/png": "[encoded data removed]",
      "text/plain": [
       "<Figure size 432x288 with 1 Axes>"
      ]
     },
     "metadata": {
      "needs_background": "light"
     },
     "output_type": "display_data"
    }
   ],
   "source": [
    "import matplotlib.pyplot as plt\n",
    "\n",
    "eps_decay = 0.965\n",
    "episodes = 100\n",
    "\n",
    "epsilon = 1.0\n",
    "eps_values = np.zeros(episodes)\n",
    "\n",
    "for episode in range(episodes):\n",
    "    eps_values[episode] = epsilon\n",
    "    epsilon *= eps_decay\n",
    "\n",
    "# Plot epsilon values\n",
    "plt.scatter(range(episodes),eps_values)\n",
    "plt.xlabel('Episodes')\n",
    "plt.ylabel('Epsilon');"
   ]
  },
  {
   "cell_type": "code",
   "execution_count": 18,
   "metadata": {
    "id": "1uFTJZmVxWEX"
   },
   "outputs": [],
   "source": [
    "def policy_eps_greedy(Q: np.ndarray, state: int, epsilon: float) -> int:\n",
    "    \"\"\"\n",
    "    Returns the action calculated using epsilon greedy policy.\n",
    "    \"\"\"\n",
    "    if np.random.random() < epsilon:\n",
    "        action = env.action_space.sample() # random policy.\n",
    "    else:\n",
    "        action = np.argmax(Q[state,:]) # greedy policy.\n",
    "    return action"
   ]
  },
  {
   "cell_type": "code",
   "execution_count": 19,
   "metadata": {
    "id": "WJolAbhvW7uG"
   },
   "outputs": [
    {
     "name": "stdout",
     "output_type": "stream",
     "text": [
      "li: [(1.0, 15, 0, True)]\n"
     ]
    }
   ],
   "source": [
    "def run_epsilon_greedy_episode(env: GlassBridgeEnv(), Q: np.ndarray, epsilon: float, \n",
    "                               learning_rate: float, discount_factor: float) -> tuple:\n",
    "    \"\"\"\n",
    "    Returns tuple containing episode's return and Q table.\n",
    "    \"\"\"\n",
    "    state = env.reset()\n",
    "    done = False\n",
    "    episode_return = 0\n",
    "    while (not done):\n",
    "        action = policy_eps_greedy(Q, state, epsilon)\n",
    "        newstate, reward, done, _ = env.step(action)\n",
    "        episode_return += reward\n",
    "        Q = bellman_update(Q, learning_rate, discount_factor, reward, state, newstate, action)\n",
    "        state = newstate\n",
    "    return (episode_return, Q)"
   ]
  },
  {
   "cell_type": "markdown",
   "metadata": {
    "id": "J7qkTnaiYte8"
   },
   "source": [
    "## Fine-tuning hyperparameters\n",
    "\n",
    "There are a few guidelines for simple RL problems to boost success.\n",
    "\n",
    "\n",
    "*   The environment is probabilistic and Q-values are randomly initialized, as a result different training runs will return different results. Therefore, do not rely on a single training run to evaluate a set of hyperparameter values. \n",
    "*   The exploitation-exploration dilemma: if the agent is not successful, it might mean that it doesn't explore the environment enough. Keep the `epsilon`value close to 1 to allow the agent to explore for longer.\n",
    "*   If the agent is successful a few times but it doesn't exploit those successes, try the following steps:     \n",
    "    * Adjust the learning rate\n",
    "    * Increase the number of episodes &#8594; train for longer\n",
    "    * Increase the `discount_factor` to ensure that the reward backpropagates sufficiently to the Q-values for the initial states.\n",
    "\n"
   ]
  },
  {
   "cell_type": "code",
   "execution_count": 43,
   "metadata": {
    "id": "OTxv_s7dbTvV"
   },
   "outputs": [],
   "source": [
    "def train_agent(env: GlassBridgeEnv, epsiodes: int, learning_rate: float, \n",
    "                discount_factor: float, eps_decay: float) -> tuple:\n",
    "    \"\"\"\n",
    "    Trains agent using epsilon greedy policy. Returns array of rewards for each episode and Q table\n",
    "    \"\"\"\n",
    "    reward_history = np.array([])\n",
    "    Q = np.zeros([num_states, num_actions])\n",
    "    epsilon = 1.0\n",
    "    for episode in range(episodes):\n",
    "        reward, Q = run_epsilon_greedy_episode(env, Q, epsilon, learning_rate, discount_factor)\n",
    "        reward_history = np.append(reward_history, reward)\n",
    "        if(epsilon > EPS_MIN):\n",
    "            epsilon *= eps_decay\n",
    "    return (reward_history, Q)\n",
    "\n",
    "def check_success(env: GlassBridgeEnv, Q: np.ndarray):\n",
    "    \"\"\"\n",
    "    Check success rate using learned Q table.\n",
    "    \"\"\"\n",
    "    success = 0\n",
    "    for episode in range(100):\n",
    "        state = env.reset()\n",
    "        done = False\n",
    "        reward = 0\n",
    "        while not done:\n",
    "            action = np.argmax(Q[state,:])\n",
    "            state, reward, done, _ = env.step(action)\n",
    "        success += reward\n",
    "    print(f\"\\nSuccess rate: {success} %\")\n",
    "    \n",
    "def visualize_training(reward_history: np.array):\n",
    "    \"\"\"\n",
    "    Plots reward and success % over episodes.\n",
    "    \"\"\"\n",
    "    plt.subplot(2,1,1)\n",
    "    plt.plot(range(len(reward_history)), reward_history)\n",
    "    plt.xlabel('Episodes')\n",
    "    plt.ylabel('Reward')\n",
    "    plt.title('Reward during Training')\n",
    "    num_bins = episodes/1000\n",
    "    plt.subplot(2,1,2)\n",
    "    plt.hist(np.nonzero(reward_history)[0], bins=int(num_bins), range=(0,episodes), rwidth=0.4)\n",
    "    plt.xlabel('Episodes')\n",
    "    plt.ylabel('# Success')"
   ]
  },
  {
   "cell_type": "code",
   "execution_count": 44,
   "metadata": {
    "colab": {
     "height": 607
    },
    "executionInfo": {
     "elapsed": 1855,
     "status": "ok",
     "timestamp": 1642355678274,
     "user": {
      "displayName": "Riccardo Pisoni",
      "photoUrl": "https://lh3.googleusercontent.com/a-/AOh14GhIGKGMiSf8BzgUVsZnBRnoZbPC-FSvEzoPyfF_=s64",
      "userId": "15979285378475721637"
     },
     "user_tz": -60
    },
    "id": "kBZ2xAGrcN1I",
    "outputId": "9c46e5e8-0214-465a-bd32-86968ba46f47"
   },
   "outputs": [
    {
     "name": "stdout",
     "output_type": "stream",
     "text": [
      "[[0.15 0.03]\n",
      " [0.04 0.19]\n",
      " [0.   0.  ]\n",
      " [0.   0.  ]\n",
      " [0.1  0.47]\n",
      " [0.   0.  ]\n",
      " [0.15 0.79]\n",
      " [0.   0.  ]\n",
      " [0.   0.  ]\n",
      " [0.   0.  ]\n",
      " [0.23 0.05]\n",
      " [0.04 0.34]\n",
      " [0.   0.  ]\n",
      " [0.08 0.65]\n",
      " [0.   0.  ]\n",
      " [0.   0.  ]]\n",
      "\n",
      "Success rate: 23.0 %\n"
     ]
    },
    {
     "data": {
      "image/png": "[encoded data removed]",
      "text/plain": [
       "<Figure size 432x288 with 2 Axes>"
      ]
     },
     "metadata": {
      "needs_background": "light"
     },
     "output_type": "display_data"
    }
   ],
   "source": [
    "# Set parameters\n",
    "eps_decay = 0.98 \n",
    "episodes = 20000    \n",
    "discount_factor = 0.95        \n",
    "learning_rate = 0.02       \n",
    "\n",
    "EPS_MIN = 0.05\n",
    "\n",
    "# Run agent, print q-values, and plot reward history.\n",
    "reward_history, Q = train_agent(env, episodes, learning_rate, discount_factor, eps_decay)\n",
    "print(Q)\n",
    "visualize_training(reward_history)\n",
    "check_success(env, Q)"
   ]
  },
  {
   "cell_type": "markdown",
   "metadata": {
    "id": "GI6vJsPAWAHB"
   },
   "source": [
    "The epsilon-greedy policy successfully balances exploration and exploitation. Combining tabular Q-learning with an epsilon-greedy policy is a powerful approach to solving simple environments."
   ]
  },
  {
   "cell_type": "markdown",
   "metadata": {
    "id": "FJUMGg5rWszy"
   },
   "source": [
    "# Deep Q-Learning\n",
    "\n",
    "Tabular Q-Learning (as discussed in the previous section) builds a table which requires an entry for each state-action combination. If the environment is simple, this is indeed a powerful approach, but if the environment is more complex, with many states and actions, then the Q table's size becomes massive.\n",
    "\n",
    "Instead of using a table we can predict Q values using neural networks.\n",
    "\n",
    "We are going now to implement the same epsilon-greedy policy as above where instead of storing Q-values in a table we use a neural network to generate them.\n",
    "\n",
    "The input to the neural net is the one-hot encoded state, the output is a vector of Q-values for each action. Therefore, the input is a vector of length `num_states` while the output is a vector of length `num_actions`."
   ]
  },
  {
   "cell_type": "code",
   "execution_count": 11,
   "metadata": {
    "executionInfo": {
     "elapsed": 6168,
     "status": "ok",
     "timestamp": 1642355696164,
     "user": {
      "displayName": "Riccardo Pisoni",
      "photoUrl": "https://lh3.googleusercontent.com/a-/AOh14GhIGKGMiSf8BzgUVsZnBRnoZbPC-FSvEzoPyfF_=s64",
      "userId": "15979285378475721637"
     },
     "user_tz": -60
    },
    "id": "ExVA9LSZYyEl",
    "outputId": "d5250cc8-f71b-456f-cb7d-2c7172ae483b"
   },
   "outputs": [
    {
     "data": {
      "text/plain": [
       "(16, 2)"
      ]
     },
     "execution_count": 11,
     "metadata": {},
     "output_type": "execute_result"
    }
   ],
   "source": [
    "from tensorflow import keras\n",
    "from collections import defaultdict\n",
    "from tqdm import notebook\n",
    "\n",
    "EPSILON_MIN = 0.01 # We will need this for later when we train the agent.\n",
    "\n",
    "num_states = env.observation_space.n\n",
    "num_actions = env.action_space.n\n",
    "\n",
    "num_states, num_actions"
   ]
  },
  {
   "cell_type": "code",
   "execution_count": 19,
   "metadata": {
    "id": "CuESiBThYvQa"
   },
   "outputs": [],
   "source": [
    "def one_hot_encode_state(state: int) -> np.array:\n",
    "  \"\"\"\n",
    "  Args:\n",
    "      state: An integer representing the agent's state.\n",
    "  Returns:\n",
    "      A one-hot encoded vector of the input `state`.\n",
    "  \"\"\"\n",
    "  return np.identity(num_states)[state:state+1] # [state:state+1] to expand dimensions, instead of simply [state]"
   ]
  },
  {
   "cell_type": "markdown",
   "metadata": {
    "id": "8QNUO4a_ZQQn"
   },
   "source": [
    "We define a nonlinear neural network with 16 inputs and 2 outputs by using the TF Keras API. \n",
    "The neural net has these characteristics:     \n",
    "* it is made of a single dense layer,\n",
    "* uses `relu` activation function,\n",
    "* weights are initialized with small positive values,\n",
    "* does not use bias. Why?! Given that each neuron corresponds to an action, independently of the state, $Q(s1,a1)$ will have the same bias as $Q(s2,a1)$. Training the model will change this bias and affect multiple predictions at the same time.\n"
   ]
  },
  {
   "cell_type": "code",
   "execution_count": 16,
   "metadata": {
    "executionInfo": {
     "elapsed": 2860,
     "status": "ok",
     "timestamp": 1642355699276,
     "user": {
      "displayName": "Riccardo Pisoni",
      "photoUrl": "https://lh3.googleusercontent.com/a-/AOh14GhIGKGMiSf8BzgUVsZnBRnoZbPC-FSvEzoPyfF_=s64",
      "userId": "15979285378475721637"
     },
     "user_tz": -60
    },
    "id": "JFRDgkdjeEdi",
    "outputId": "7799f341-5dc8-4b43-c978-b0d8420f1421"
   },
   "outputs": [
    {
     "name": "stdout",
     "output_type": "stream",
     "text": [
      "Model: \"sequential\"\n",
      "_________________________________________________________________\n",
      " Layer (type)                Output Shape              Param #   \n",
      "=================================================================\n",
      " dense (Dense)               (None, 2)                 32        \n",
      "                                                                 \n",
      "=================================================================\n",
      "Total params: 32\n",
      "Trainable params: 32\n",
      "Non-trainable params: 0\n",
      "_________________________________________________________________\n"
     ]
    }
   ],
   "source": [
    "def define_model(learning_rate: float):\n",
    "    \"\"\"Returns a shallow neural net defined using tf.keras.\n",
    "    Args:\n",
    "        learning_rate: optimizer learning rate\n",
    "    Returns:\n",
    "        model: A shallow neural net defined using tf.keras input dimension equal to\n",
    "        num_states and output dimension equal to num_actions.\n",
    "    \"\"\"\n",
    "    model = keras.models.Sequential([\n",
    "                                     keras.layers.Dense(units=num_actions,\n",
    "                                                        input_dim=num_states,\n",
    "                                                        activation='relu',\n",
    "                                                        use_bias=False,\n",
    "                                                        kernel_initializer=keras.initializers.RandomUniform(minval=1e-5, maxval=0.05))\n",
    "                                                        ])\n",
    "    model.compile(optimizer = keras.optimizers.SGD(learning_rate = learning_rate), loss='mse')\n",
    "    return model\n",
    "\n",
    "learning_rate=0.1\n",
    "model = define_model(learning_rate)\n",
    "model.summary()"
   ]
  },
  {
   "cell_type": "markdown",
   "metadata": {
    "id": "IcUISQ5Mteqk"
   },
   "source": [
    "How do we train the NN? We follow these steps:      \n",
    "\n",
    "\n",
    "1.   Suppose we are in a state `s0`, the first thing we do is to choose an action for the agent to perform. How do we choose an action? We use, for example, $\\epsilon$-greedy policy. The difference with the Q-tabular learning is that now the neural network replaces the Q-table.\n",
    "\n"
   ]
  },
  {
   "cell_type": "code",
   "execution_count": 20,
   "metadata": {
    "id": "tqaqHvbIwdAV"
   },
   "outputs": [],
   "source": [
    "state = env.reset()"
   ]
  },
  {
   "cell_type": "code",
   "execution_count": 21,
   "metadata": {
    "id": "BWDdAsjkmMrz"
   },
   "outputs": [],
   "source": [
    "def policy_eps_greedy(env: GlassBridgeEnv, q_values: np.ndarray, epsilon: float) -> int:\n",
    "    \"\"\"Select action given Q-values using epsilon-greedy algorithm.\n",
    "    Args:\n",
    "        q_values: q_values for all possible actions from a state.\n",
    "        epsilon: Current value of epsilon used to select action using epsilon-greedy\n",
    "                 algorithm.\n",
    "    Returns:\n",
    "        action: action to take from the state.\n",
    "    \"\"\"\n",
    "    if(np.random.rand() < epsilon):\n",
    "        action = env.action_space.sample()\n",
    "    else:\n",
    "        action = np.argmax(q_values)\n",
    "    return action"
   ]
  },
  {
   "cell_type": "code",
   "execution_count": 23,
   "metadata": {
    "executionInfo": {
     "elapsed": 361,
     "status": "ok",
     "timestamp": 1642355700253,
     "user": {
      "displayName": "Riccardo Pisoni",
      "photoUrl": "https://lh3.googleusercontent.com/a-/AOh14GhIGKGMiSf8BzgUVsZnBRnoZbPC-FSvEzoPyfF_=s64",
      "userId": "15979285378475721637"
     },
     "user_tz": -60
    },
    "id": "EiYqubakwU4j",
    "outputId": "ca61a316-cd4d-4cde-91b7-be8ce88122b1"
   },
   "outputs": [],
   "source": [
    "epsilon = 1.0\n",
    "q_values = model.predict(one_hot_encode_state(state))\n",
    "action = policy_eps_greedy(env, q_values, epsilon)"
   ]
  },
  {
   "cell_type": "markdown",
   "metadata": {
    "id": "Ty5ubUxturD1"
   },
   "source": [
    "\n",
    "\n",
    "2.   After taking the action, we record the next state we are in and the reward we got\n",
    "\n",
    "\n",
    "\n",
    "```\n",
    "newstate, reward, done, _ = env.step(action)\n",
    "```\n",
    "\n",
    "\n",
    "3.   We then calculate the target Q-value using the Bellman update\n",
    "$Q(s_0, a) = r(s_0, a) + \\gamma \\displaystyle \\max_{\\substack{a_1}} Q(s_1,a_1)$, where $s_0$ is the state of step 1 and $a$ the action we took."
   ]
  },
  {
   "cell_type": "code",
   "execution_count": 24,
   "metadata": {
    "id": "-z9JjAbEqlRn"
   },
   "outputs": [],
   "source": [
    "def bellman_update(reward: float, discount_factor: float, model, state_new: int) -> float:\n",
    "    return reward + discount_factor * \\\n",
    "                    np.max(model.predict(one_hot_encode_state(state_new)))"
   ]
  },
  {
   "cell_type": "code",
   "execution_count": 25,
   "metadata": {
    "executionInfo": {
     "elapsed": 112,
     "status": "ok",
     "timestamp": 1642355700618,
     "user": {
      "displayName": "Riccardo Pisoni",
      "photoUrl": "https://lh3.googleusercontent.com/a-/AOh14GhIGKGMiSf8BzgUVsZnBRnoZbPC-FSvEzoPyfF_=s64",
      "userId": "15979285378475721637"
     },
     "user_tz": -60
    },
    "id": "iOI7Cg8uys2g",
    "outputId": "9c4b98f4-79eb-40c9-fa49-8f0c7503a94e"
   },
   "outputs": [],
   "source": [
    "q_values[0, action] = bellman_update(reward, discount_factor, model, newstate)"
   ]
  },
  {
   "cell_type": "code",
   "execution_count": 27,
   "metadata": {},
   "outputs": [
    {
     "data": {
      "text/plain": [
       "array([0.02, 0.02], dtype=float32)"
      ]
     },
     "execution_count": 27,
     "metadata": {},
     "output_type": "execute_result"
    }
   ],
   "source": [
    "q_values[0]"
   ]
  },
  {
   "cell_type": "markdown",
   "metadata": {
    "id": "mUqskIxczKCj"
   },
   "source": [
    "q-values for a state is a 2D array of shape (1,2), e.g. `[[0.04, 0.01]]`, where the two values denote the Q-values of the two possible actions (RIGHT, DIAGONAL), respectively. The `0` value in `q_values[0, action]` is used for `[[0.04, 0.01]]`--> `[0.04, 0.01]`\n",
    "\n",
    "4. Now that we have the target Q-value, we train the NN to predict this Q-value. In this way, next episode, the action we will take in `s_0` will be determined by this new updated Q-value, and ideally the action corresponding to the max q-value will be the one that gets us closer to the final goal.\n",
    "\n",
    "\n",
    "```\n",
    "model.fit(one_hot_encode_state(state), q_values)\n",
    "```"
   ]
  },
  {
   "cell_type": "markdown",
   "metadata": {
    "id": "1jvTjZeaytGn"
   },
   "source": [
    "The four steps above need to be run in a loop. For each episode we return the trained model, the *return* of the episode (or sum of rewards) and the length of the episode. This last metric is very important, because the agent will succeed in performing more and more steps and the episode will last longer as the agent learns. The length of the episode is a great metric to monitor the agent training.\n",
    "\n",
    "The next code snippet is training the agent using Deep Q Network (DQN) and the $\\epsilon$-greedy policy defined above. It records the agent's episode length and the agent's episode reward as metrics and plots them. \n",
    "Generally, one can also define a success threshold (e.g. percentage of successes) to know when stopping training, or as we will do monitor the episode length."
   ]
  },
  {
   "cell_type": "code",
   "execution_count": 61,
   "metadata": {
    "id": "OjjYlzlxtgqY"
   },
   "outputs": [],
   "source": [
    "class TrainAgent:\n",
    "    def __init__(self, params):\n",
    "        \"\"\"\n",
    "        Initializes training parameters.\n",
    "\n",
    "        Args:\n",
    "              env: environment to train the agent on\n",
    "              model: neural network representing agent used to learn Q-values of\n",
    "                environment\n",
    "              epsilon: starting value of epsilon\n",
    "              discount_factor: factor by which to reduce return from next state when\n",
    "                updating Q-values using Bellman update.\n",
    "              eps_decay: factor to reduce value of epsilon by, on every episode\n",
    "              episodes: number of episodes to train agent for\n",
    "              learning_rate: learning rate used by model\n",
    "        \"\"\"\n",
    "        self.env = params['env']\n",
    "        self.epsilon = params['epsilon']\n",
    "        self.eps_decay = params['eps_decay']\n",
    "        self.discount_factor = params['discount_factor']\n",
    "        self.model = params['model']\n",
    "        self.num_episodes = params['num_episodes']\n",
    "\n",
    "    def __call__(self):\n",
    "        \"\"\"\n",
    "        Trains the agent by running episodes while checking for successful\n",
    "         learning.\n",
    "        \"\"\"\n",
    "        history = defaultdict(list)\n",
    "        for episode in notebook.tqdm(range(self.num_episodes)):\n",
    "            episode_length, episode_reward = self._train_iter()\n",
    "            history['length_history'].append(episode_length)\n",
    "            history['reward_history'].append(episode_reward)\n",
    "            if self.epsilon > EPSILON_MIN:\n",
    "                self.epsilon *= self.eps_decay\n",
    "            if episode+1 % 500 == 0:\n",
    "                print(f\"\"\"\n",
    "                Episode: {episode},\\n\n",
    "                Avg reward: {np.mean(history['reward_history'][-500:-1])},\\n\n",
    "                Avg Length: {np.mean(history['length_history'][-500:-1])},\\n\n",
    "                Epsilon: {self.epsilon}\n",
    "                \"\"\")\n",
    "        self.visualize_performance(history)\n",
    "        env.close() \n",
    "\n",
    "    def _train_iter(self):\n",
    "        \"\"\"\n",
    "        Runs one episode and trains the model on every state transition.\n",
    "\n",
    "        Runs one episode. On every state transition in the episode, collects the\n",
    "        tuple s, a, r, s'. Then performs Bellman update on Q-values using the tuple\n",
    "        and trains the agent to predict the updated Q-values.\n",
    "\n",
    "        Returns:\n",
    "          episode_length: number of states visited during episode\n",
    "          episode_reward: total reward earned by agent during episode\n",
    "          model: updated model after training during episode\n",
    "        \"\"\"\n",
    "        state = self.env.reset()\n",
    "        episode_reward = 0 \n",
    "        done = False\n",
    "        episode_length = 0\n",
    "        while not done:\n",
    "            episode_length += 1\n",
    "            q_values = self.model.predict(one_hot_encode_state(state))\n",
    "            action = policy_eps_greedy(self.env, q_values, self.epsilon)\n",
    "            newstate, reward, done, _ = self.env.step(action)\n",
    "            q_values[0, action] = bellman_update(reward, self.discount_factor, self.model,\n",
    "                                                newstate)\n",
    "        self.model.fit(one_hot_encode_state(state), q_values, verbose=False)\n",
    "        episode_reward += reward\n",
    "        state = newstate\n",
    "        return episode_length, episode_reward\n",
    "\n",
    "    @staticmethod\n",
    "    def visualize_performance(history: dict):\n",
    "        \"\"\"\n",
    "        Plots the reward history and episode length history.\n",
    "\n",
    "        Args:\n",
    "              history: dictionary containing reward history and episode length history\n",
    "        \"\"\"\n",
    "        plt.plot(range(len(history['reward_history'])), history['reward_history'])\n",
    "        plt.xlabel('Episodes')\n",
    "        plt.ylabel('Reward')\n",
    "        plt.title('Reward during training')\n",
    "        plt.show()\n",
    "\n",
    "        plt.plot(range(len(history['length_history'])), history['length_history'])\n",
    "        plt.xlabel('Episodes')\n",
    "        plt.ylabel('Episode length')\n",
    "        plt.title('Episode length during training')\n",
    "        plt.show()"
   ]
  },
  {
   "cell_type": "code",
   "execution_count": 62,
   "metadata": {
    "id": "-zGG5NRi5C--"
   },
   "outputs": [
    {
     "data": {
      "application/vnd.jupyter.widget-view+json": {
       "model_id": "b974c64fdde043898a78ed0d7b524f02",
       "version_major": 2,
       "version_minor": 0
      },
      "text/plain": [
       "HBox(children=(HTML(value=''), FloatProgress(value=0.0, max=2000.0), HTML(value='')))"
      ]
     },
     "metadata": {},
     "output_type": "display_data"
    },
    {
     "name": "stdout",
     "output_type": "stream",
     "text": [
      "\n"
     ]
    },
    {
     "data": {
      "image/png": "[encoded data removed]",
      "text/plain": [
       "<Figure size 432x288 with 1 Axes>"
      ]
     },
     "metadata": {
      "needs_background": "light"
     },
     "output_type": "display_data"
    },
    {
     "data": {
      "image/png": "[encoded data removed]",
      "text/plain": [
       "<Figure size 432x288 with 1 Axes>"
      ]
     },
     "metadata": {
      "needs_background": "light"
     },
     "output_type": "display_data"
    }
   ],
   "source": [
    "params = {\n",
    "    'env':env,\n",
    "    'epsilon': 1.0,\n",
    "    'eps_decay': 0.99,\n",
    "    'discount_factor': 0.95,\n",
    "    'model': define_model(learning_rate=0.1),\n",
    "    'num_episodes': 2000\n",
    "}\n",
    "\n",
    "TrainAgent(params)()"
   ]
  },
  {
   "cell_type": "markdown",
   "metadata": {
    "id": "kFg5UWyk1YyT"
   },
   "source": [
    "The reward from the final state must propagate back to the initial state's Q-values. The higher the `discount_factor`, the greater the fraction of the reward that propagates back. Hence, keep `discount_factor` high."
   ]
  },
  {
   "cell_type": "code",
   "execution_count": null,
   "metadata": {
    "id": "TB9_wzxW3xjA"
   },
   "outputs": [],
   "source": [
    "from IPython.display import clear_output # to clear output on every episode run\n",
    "\n",
    "state = env.reset()\n",
    "done = False\n",
    "while(not(done)):\n",
    "    q_values = model.predict(np.identity(num_states)[state:state+1])\n",
    "    action = np.argmax(q_values)\n",
    "    state_new, reward, done,_ = env.step(action)\n",
    "    state = state_new\n",
    "    clear_output()\n",
    "    env.render()\n",
    "    time.sleep(0.5)"
   ]
  },
  {
   "cell_type": "markdown",
   "metadata": {
    "id": "DBFtUYaR-0Kv"
   },
   "source": [
    "## Experience Replay\n",
    "\n",
    "Online DQN is trained on tuples generated during live training, sequentially. This makes the training unstable...why? Because training a model, in sequential order, on a trajectory of states means that successive states are similar. Similar in the sense that these tuples are highly correlated, this goes against the independently and identically distributed (i.i.d.) data rule. Even if we choose our starting state randomly, the remaining actions and states to transition to will be chosen according to the trajectory, they are chosen by the policy over a single step, which does not make the consecutive steps fully independent random samples. To make the sampled observations independent, one should make a new random choice, and to be identically distributed that choice has to be made fairly over the whole dataset.\n",
    "\n",
    "If the model input data is not i.i.d, the model won't be able to generalize well to other data and therefore training becomes unstable.\n",
    "Neural networks rely on the assumption that input data is i.i.d.\n",
    "\n",
    "Enters **Experience Replay**.\n",
    "\n",
    "\n",
    "In online training all the previous tuples are discarded, meaning that the model needs to experience those transitions again and again. Experience replay is the act of sampling a small batch of tuples, which were previously collected in a replay buffer, and using this to train the NN. At every step:\n",
    "\n",
    "*   save the tuple for the state transition to the buffer,\n",
    "*   sample a batch of tuples from the replay buffer and train the NN on it.\n",
    "\n",
    "![experience replay](imgs/exp_replay_2x.png)\n",
    "\n",
    "\n",
    "Training on batches of tuples instead of single tuples makes better use of the agent experience and makes the training more stable.\n",
    "\n",
    "\n"
   ]
  },
  {
   "cell_type": "markdown",
   "metadata": {
    "id": "u0-bNoSS-0NX"
   },
   "source": [
    "## Target Networks\n",
    "\n",
    "Another method, which complements experience replay, to stabilize DQN training is **Target Networks**. \n",
    "When doing online DQN, at each state transition, the NN weights get updated to improve predictive power. The same weights and network are used to predict the target Q-values. The NN trains using its own predictions. As a result, target Q-values don't remain steady, and we experience the problem of chasing a moving target.\n",
    "\n",
    "To keep target Q-values steady, we compute the target Q-values using a separate neural network called a target network.\n",
    "We would like to update the weight of the target network to increase its predictive power, but we don't want to do that at each transition otherwise we are back at square one. Instead, we update the target network to our main neural network, every $N$ steps. This $N$ can be a hyperparameter to tune.\n",
    "\n",
    "![target networks](imgs/target_2x.png)\n",
    "\n",
    "\n",
    "to build the replay buffer we use the `deque` data structure from Python's `collections` library. It allows us to set a maximum size, and if this size is exceeded it removes the first item and adds the new item at the end of the queue."
   ]
  },
  {
   "cell_type": "code",
   "execution_count": 63,
   "metadata": {
    "id": "WBqhGigd-0Sl"
   },
   "outputs": [],
   "source": [
    "from collections import deque\n",
    "import random\n",
    "\n",
    "class TrainAgent:\n",
    "    def __init__(self, params):\n",
    "        \"\"\"\n",
    "        Initializes training parameters.\n",
    "\n",
    "        Args:\n",
    "              env: environment to train the agent on\n",
    "              model: neural network representing agent used to learn Q-values of\n",
    "                environment\n",
    "              epsilon: starting value of epsilon\n",
    "              discount_factor: factor by which to reduce return from next state when\n",
    "                updating Q-values using Bellman update.\n",
    "              eps_decay: factor to reduce value of epsilon by, on every episode\n",
    "              episodes: number of episodes to train agent for\n",
    "              learning_rate: learning rate used by model\n",
    "        \"\"\"\n",
    "        self.env = params['env']\n",
    "        self.epsilon = params['epsilon']\n",
    "        self.eps_decay = params['eps_decay']\n",
    "        self.discount_factor = params['discount_factor']\n",
    "        self.model = params['model']\n",
    "        self.target_network = params['target_network']\n",
    "        self.num_episodes = params['num_episodes']\n",
    "        self.replay_buffer_size = params['replay_buffer_size']\n",
    "        self.replay_buffer = deque(maxlen = self.replay_buffer_size)\n",
    "        self.batch_size = params['batch_size']\n",
    "        self.update_target_network_interval = params['update_target_network_interval']\n",
    "\n",
    "    def __call__(self):\n",
    "        \"\"\"\n",
    "        Trains the agent by running episodes while checking for successful\n",
    "         learning.\n",
    "        \"\"\"\n",
    "        history = defaultdict(list)\n",
    "        for episode in notebook.tqdm(range(self.num_episodes)):\n",
    "            episode_length, episode_reward = self._train_iter()\n",
    "            history['length_history'].append(episode_length)\n",
    "            history['reward_history'].append(episode_reward)\n",
    "            if self.epsilon > EPSILON_MIN:\n",
    "                self.epsilon *= self.eps_decay\n",
    "            if ((episode+1) % self.update_target_network_interval) == 0:\n",
    "                self.target_network.set_weights(self.model.get_weights())\n",
    "            if ((episode+1) % 100) == 0:\n",
    "                print(f\"\"\"\n",
    "                Episode: {episode},\\n\n",
    "                Avg reward: {np.mean(history['reward_history'][-100:-1])},\\n\n",
    "                Avg Length: {np.mean(history['length_history'][-100:-1])},\\n\n",
    "                Epsilon: {self.epsilon}\n",
    "                \"\"\")\n",
    "        self.visualize_performance(history)\n",
    "        env.close() \n",
    "  \n",
    "    def _train_model_w_experience_replay(self):\n",
    "        \"\"\"Samples a batch from the buffer and trains the agent on the batch.\n",
    "\n",
    "        Unpacks feature data from tuples of (state, action, reward, newstate).\n",
    "        Encodes states as one-hot vectors and stacks these vectors into a matrix.\n",
    "        Creates matrix of target Q-values. Uses both matrices to train model in one\n",
    "        call for faster training.\n",
    "\n",
    "        Args:\n",
    "          replay_buffer: deque containing recorded tuples.\n",
    "          batch_size: integer specifying training batch size.\n",
    "          model: neural network representing agent.\n",
    "          discount_factor: factor by which to reduce return from next state when\n",
    "            updating Q-values using Bellman update.\n",
    "        Returns:\n",
    "          model: neural network trained on sampled batch.\n",
    "        \"\"\"\n",
    "        if(len(self.replay_buffer) > self.batch_size):\n",
    "            batch = random.sample(self.replay_buffer, self.batch_size)\n",
    "            states, actions, rewards, newstates = [list(tup) for tup in zip(*batch)]\n",
    "            one_hot_encoded_states = np.empty(shape=(0,num_states))\n",
    "            for state in states:\n",
    "                one_hot_encoded_states = np.vstack((one_hot_encoded_states, one_hot_encode_state(state)))\n",
    "            target_q_values = self.target_network.predict(one_hot_encoded_states)\n",
    "            for i in range(len(states)):\n",
    "                target_q_values[i, actions[i]] = bellman_update(rewards[i], \n",
    "                                                                self.discount_factor, \n",
    "                                                                self.target_network, \n",
    "                                                                newstates[i])\n",
    "            self.model.fit(one_hot_encoded_states, target_q_values, verbose = False)\n",
    "      \n",
    "\n",
    "    def _train_iter(self):\n",
    "        \"\"\"\n",
    "        Runs one episode and trains the model on every state transition.\n",
    "\n",
    "        Runs one episode. On every state transition in the episode, collects the\n",
    "        tuple s, a, r, s'. Then performs Bellman update on Q-values using the tuple\n",
    "        and trains the agent to predict the updated Q-values.\n",
    "\n",
    "        Returns:\n",
    "          episode_length: number of states visited during episode\n",
    "          episode_reward: total reward earned by agent during episode\n",
    "          model: updated model after training during episode\n",
    "        \"\"\"\n",
    "        state = self.env.reset()\n",
    "        episode_reward = 0 \n",
    "        done = False\n",
    "        episode_length = 0\n",
    "        while not done:\n",
    "            episode_length += 1\n",
    "            q_values = self.model.predict(one_hot_encode_state(state))\n",
    "            action = policy_eps_greedy(self.env, q_values, self.epsilon)\n",
    "            newstate, reward, done, _ = self.env.step(action)\n",
    "            self.replay_buffer.append((state, action, reward, newstate))\n",
    "            self._train_model_w_experience_replay()\n",
    "            episode_reward += reward\n",
    "            state = newstate\n",
    "        return episode_length, episode_reward\n",
    "\n",
    "    @staticmethod\n",
    "    def visualize_performance(history: dict):\n",
    "        \"\"\"\n",
    "        Plots the reward history and episode length history.\n",
    "\n",
    "        Args:\n",
    "              history: dictionary containing reward history and episode length history\n",
    "        \"\"\"\n",
    "        plt.plot(range(len(history['reward_history'])), history['reward_history'])\n",
    "        plt.xlabel('Episodes')\n",
    "        plt.ylabel('Reward')\n",
    "        plt.title('Reward during training')\n",
    "        plt.show()\n",
    "\n",
    "        plt.plot(range(len(history['length_history'])), history['length_history'])\n",
    "        plt.xlabel('Episodes')\n",
    "        plt.ylabel('Episode length')\n",
    "        plt.title('Episode length during training')\n",
    "        plt.show()"
   ]
  },
  {
   "cell_type": "code",
   "execution_count": 64,
   "metadata": {
    "colab": {
     "height": 1000,
     "referenced_widgets": [
      "8d03cbe18f4d42d4b691e40685c4778d",
      "a4d590f7c6284bf9984a6a79b48a2023",
      "46cb9c0b773a493f91d7ad82994fdd4a",
      "c153de30f42f4f509955a22e6726a179",
      "fe41c112577b40c090792d6dbceda2bd",
      "b696d9598ce74f9ab441748fb05b0986",
      "34e2486eb5414ebe99c0a02fd13fae98",
      "a43eeb4fab2f4574a675799c20580b38",
      "3e4eeddcb954424e94792b45d9ed2516",
      "a2cf27f2ddc94d33880c9a1a9039d481",
      "2c8be598d4974c598238a7cff27614d9"
     ]
    },
    "executionInfo": {
     "elapsed": 1714665,
     "status": "ok",
     "timestamp": 1639466289173,
     "user": {
      "displayName": "Riccardo Pisoni",
      "photoUrl": "https://lh3.googleusercontent.com/a-/AOh14GhIGKGMiSf8BzgUVsZnBRnoZbPC-FSvEzoPyfF_=s64",
      "userId": "15979285378475721637"
     },
     "user_tz": -60
    },
    "id": "e3kShWHuwqL4",
    "outputId": "6390f32d-ebc0-46a5-d2b7-7e62367170c1"
   },
   "outputs": [
    {
     "data": {
      "application/vnd.jupyter.widget-view+json": {
       "model_id": "93659399b4b8476c8cbda0033b4461e6",
       "version_major": 2,
       "version_minor": 0
      },
      "text/plain": [
       "HBox(children=(HTML(value=''), FloatProgress(value=0.0, max=2000.0), HTML(value='')))"
      ]
     },
     "metadata": {},
     "output_type": "display_data"
    },
    {
     "name": "stdout",
     "output_type": "stream",
     "text": [
      "\n",
      "                Episode: 99,\n",
      "\n",
      "                Avg reward: 0.0,\n",
      "\n",
      "                Avg Length: 2.01010101010101,\n",
      "\n",
      "                Epsilon: 0.9047921471137096\n",
      "                \n",
      "\n",
      "                Episode: 199,\n",
      "\n",
      "                Avg reward: 0.0,\n",
      "\n",
      "                Avg Length: 2.0707070707070705,\n",
      "\n",
      "                Epsilon: 0.818648829478636\n",
      "                \n",
      "\n",
      "                Episode: 299,\n",
      "\n",
      "                Avg reward: 0.0,\n",
      "\n",
      "                Avg Length: 2.090909090909091,\n",
      "\n",
      "                Epsilon: 0.7407070321560997\n",
      "                \n",
      "\n",
      "                Episode: 399,\n",
      "\n",
      "                Avg reward: 0.020202020202020204,\n",
      "\n",
      "                Avg Length: 2.0,\n",
      "\n",
      "                Epsilon: 0.6701859060067403\n",
      "                \n",
      "\n",
      "                Episode: 499,\n",
      "\n",
      "                Avg reward: 0.0,\n",
      "\n",
      "                Avg Length: 2.1616161616161618,\n",
      "\n",
      "                Epsilon: 0.6063789448611848\n",
      "                \n",
      "\n",
      "                Episode: 599,\n",
      "\n",
      "                Avg reward: 0.020202020202020204,\n",
      "\n",
      "                Avg Length: 2.4646464646464645,\n",
      "\n",
      "                Epsilon: 0.5486469074854965\n",
      "                \n",
      "\n",
      "                Episode: 699,\n",
      "\n",
      "                Avg reward: 0.0,\n",
      "\n",
      "                Avg Length: 2.282828282828283,\n",
      "\n",
      "                Epsilon: 0.4964114134310989\n",
      "                \n",
      "\n",
      "                Episode: 799,\n",
      "\n",
      "                Avg reward: 0.0,\n",
      "\n",
      "                Avg Length: 2.3636363636363638,\n",
      "\n",
      "                Epsilon: 0.4491491486100748\n",
      "                \n",
      "\n",
      "                Episode: 899,\n",
      "\n",
      "                Avg reward: 0.010101010101010102,\n",
      "\n",
      "                Avg Length: 2.121212121212121,\n",
      "\n",
      "                Epsilon: 0.4063866225452039\n",
      "                \n",
      "\n",
      "                Episode: 999,\n",
      "\n",
      "                Avg reward: 0.020202020202020204,\n",
      "\n",
      "                Avg Length: 2.282828282828283,\n",
      "\n",
      "                Epsilon: 0.3676954247709635\n",
      "                \n",
      "\n",
      "                Episode: 1099,\n",
      "\n",
      "                Avg reward: 0.1111111111111111,\n",
      "\n",
      "                Avg Length: 2.797979797979798,\n",
      "\n",
      "                Epsilon: 0.33268793286240766\n",
      "                \n",
      "\n",
      "                Episode: 1199,\n",
      "\n",
      "                Avg reward: 0.13131313131313133,\n",
      "\n",
      "                Avg Length: 3.01010101010101,\n",
      "\n",
      "                Epsilon: 0.3010134290933992\n",
      "                \n",
      "\n",
      "                Episode: 1299,\n",
      "\n",
      "                Avg reward: 0.08080808080808081,\n",
      "\n",
      "                Avg Length: 3.2222222222222223,\n",
      "\n",
      "                Epsilon: 0.27235458681947705\n",
      "                \n",
      "\n",
      "                Episode: 1399,\n",
      "\n",
      "                Avg reward: 0.06060606060606061,\n",
      "\n",
      "                Avg Length: 2.8282828282828283,\n",
      "\n",
      "                Epsilon: 0.24642429138466176\n",
      "                \n",
      "\n",
      "                Episode: 1499,\n",
      "\n",
      "                Avg reward: 0.1111111111111111,\n",
      "\n",
      "                Avg Length: 3.505050505050505,\n",
      "\n",
      "                Epsilon: 0.22296276370290227\n",
      "                \n",
      "\n",
      "                Episode: 1599,\n",
      "\n",
      "                Avg reward: 0.15151515151515152,\n",
      "\n",
      "                Avg Length: 3.3434343434343434,\n",
      "\n",
      "                Epsilon: 0.20173495769715546\n",
      "                \n",
      "\n",
      "                Episode: 1699,\n",
      "\n",
      "                Avg reward: 0.12121212121212122,\n",
      "\n",
      "                Avg Length: 3.242424242424242,\n",
      "\n",
      "                Epsilon: 0.18252820552270246\n",
      "                \n",
      "\n",
      "                Episode: 1799,\n",
      "\n",
      "                Avg reward: 0.13131313131313133,\n",
      "\n",
      "                Avg Length: 3.515151515151515,\n",
      "\n",
      "                Epsilon: 0.1651500869836984\n",
      "                \n",
      "\n",
      "                Episode: 1899,\n",
      "\n",
      "                Avg reward: 0.15151515151515152,\n",
      "\n",
      "                Avg Length: 3.8484848484848486,\n",
      "\n",
      "                Epsilon: 0.14942650179799613\n",
      "                \n",
      "\n",
      "                Episode: 1999,\n",
      "\n",
      "                Avg reward: 0.1414141414141414,\n",
      "\n",
      "                Avg Length: 3.3535353535353534,\n",
      "\n",
      "                Epsilon: 0.1351999253974994\n",
      "                \n",
      "\n"
     ]
    },
    {
     "data": {
      "image/png": "[encoded data removed]",
      "text/plain": [
       "<Figure size 432x288 with 1 Axes>"
      ]
     },
     "metadata": {
      "needs_background": "light"
     },
     "output_type": "display_data"
    },
    {
     "data": {
      "image/png": "[encoded data removed]",
      "text/plain": [
       "<Figure size 432x288 with 1 Axes>"
      ]
     },
     "metadata": {
      "needs_background": "light"
     },
     "output_type": "display_data"
    }
   ],
   "source": [
    "params = {\n",
    "    'env':env,\n",
    "    'epsilon': 1.0,\n",
    "    'eps_decay': 0.999,\n",
    "    'discount_factor': 0.98,\n",
    "    'model': define_model(learning_rate=0.1),\n",
    "    'target_network': define_model(learning_rate=0.1),\n",
    "    'num_episodes': 2000,\n",
    "    'replay_buffer_size': 2000,\n",
    "    'batch_size':8,\n",
    "    'update_target_network_interval': 10\n",
    "}\n",
    "\n",
    "TrainAgent(params)()"
   ]
  },
  {
   "cell_type": "markdown",
   "metadata": {
    "id": "hd_vRagj593F"
   },
   "source": [
    "# References\n",
    "\n",
    "*   R. Sutton and A. Barto, *Reinforcement Learning: An Introduction*, 2nd edition(2018), The MIT Press\n",
    "*   https://github.com/openai/gym\n",
    "\n"
   ]
  }
 ],
 "metadata": {
  "accelerator": "GPU",
  "colab": {
   "collapsed_sections": [],
   "last_runtime": {
    "build_target": "//learning/deepmind/public/tools/ml_python:ml_notebook",
    "kind": "private"
   },
   "name": "RL_medium.ipynb",
   "provenance": []
  },
  "kernelspec": {
   "display_name": "py38",
   "language": "python",
   "name": "py38"
  },
  "language_info": {
   "codemirror_mode": {
    "name": "ipython",
    "version": 3
   },
   "file_extension": ".py",
   "mimetype": "text/x-python",
   "name": "python",
   "nbconvert_exporter": "python",
   "pygments_lexer": "ipython3",
   "version": "3.8.5"
  },
  "toc": {
   "base_numbering": 1,
   "nav_menu": {},
   "number_sections": true,
   "sideBar": true,
   "skip_h1_title": false,
   "title_cell": "Table of Contents",
   "title_sidebar": "Contents",
   "toc_cell": false,
   "toc_position": {},
   "toc_section_display": true,
   "toc_window_display": false
  },
  "widgets": {
   "application/vnd.jupyter.widget-state+json": {
    "2c8be598d4974c598238a7cff27614d9": {
     "model_module": "@jupyter-widgets/controls",
     "model_module_version": "1.5.0",
     "model_name": "DescriptionStyleModel",
     "state": {
      "_model_module": "@jupyter-widgets/controls",
      "_model_module_version": "1.5.0",
      "_model_name": "DescriptionStyleModel",
      "_view_count": null,
      "_view_module": "@jupyter-widgets/base",
      "_view_module_version": "1.2.0",
      "_view_name": "StyleView",
      "description_width": ""
     }
    },
    "34e2486eb5414ebe99c0a02fd13fae98": {
     "model_module": "@jupyter-widgets/controls",
     "model_module_version": "1.5.0",
     "model_name": "DescriptionStyleModel",
     "state": {
      "_model_module": "@jupyter-widgets/controls",
      "_model_module_version": "1.5.0",
      "_model_name": "DescriptionStyleModel",
      "_view_count": null,
      "_view_module": "@jupyter-widgets/base",
      "_view_module_version": "1.2.0",
      "_view_name": "StyleView",
      "description_width": ""
     }
    },
    "3e4eeddcb954424e94792b45d9ed2516": {
     "model_module": "@jupyter-widgets/controls",
     "model_module_version": "1.5.0",
     "model_name": "ProgressStyleModel",
     "state": {
      "_model_module": "@jupyter-widgets/controls",
      "_model_module_version": "1.5.0",
      "_model_name": "ProgressStyleModel",
      "_view_count": null,
      "_view_module": "@jupyter-widgets/base",
      "_view_module_version": "1.2.0",
      "_view_name": "StyleView",
      "bar_color": null,
      "description_width": ""
     }
    },
    "46cb9c0b773a493f91d7ad82994fdd4a": {
     "model_module": "@jupyter-widgets/controls",
     "model_module_version": "1.5.0",
     "model_name": "FloatProgressModel",
     "state": {
      "_dom_classes": [],
      "_model_module": "@jupyter-widgets/controls",
      "_model_module_version": "1.5.0",
      "_model_name": "FloatProgressModel",
      "_view_count": null,
      "_view_module": "@jupyter-widgets/controls",
      "_view_module_version": "1.5.0",
      "_view_name": "ProgressView",
      "bar_style": "success",
      "description": "",
      "description_tooltip": null,
      "layout": "IPY_MODEL_a43eeb4fab2f4574a675799c20580b38",
      "max": 2000,
      "min": 0,
      "orientation": "horizontal",
      "style": "IPY_MODEL_3e4eeddcb954424e94792b45d9ed2516",
      "value": 2000
     }
    },
    "8d03cbe18f4d42d4b691e40685c4778d": {
     "model_module": "@jupyter-widgets/controls",
     "model_module_version": "1.5.0",
     "model_name": "HBoxModel",
     "state": {
      "_dom_classes": [],
      "_model_module": "@jupyter-widgets/controls",
      "_model_module_version": "1.5.0",
      "_model_name": "HBoxModel",
      "_view_count": null,
      "_view_module": "@jupyter-widgets/controls",
      "_view_module_version": "1.5.0",
      "_view_name": "HBoxView",
      "box_style": "",
      "children": [
       "IPY_MODEL_a4d590f7c6284bf9984a6a79b48a2023",
       "IPY_MODEL_46cb9c0b773a493f91d7ad82994fdd4a",
       "IPY_MODEL_c153de30f42f4f509955a22e6726a179"
      ],
      "layout": "IPY_MODEL_fe41c112577b40c090792d6dbceda2bd"
     }
    },
    "a2cf27f2ddc94d33880c9a1a9039d481": {
     "model_module": "@jupyter-widgets/base",
     "model_module_version": "1.2.0",
     "model_name": "LayoutModel",
     "state": {
      "_model_module": "@jupyter-widgets/base",
      "_model_module_version": "1.2.0",
      "_model_name": "LayoutModel",
      "_view_count": null,
      "_view_module": "@jupyter-widgets/base",
      "_view_module_version": "1.2.0",
      "_view_name": "LayoutView",
      "align_content": null,
      "align_items": null,
      "align_self": null,
      "border": null,
      "bottom": null,
      "display": null,
      "flex": null,
      "flex_flow": null,
      "grid_area": null,
      "grid_auto_columns": null,
      "grid_auto_flow": null,
      "grid_auto_rows": null,
      "grid_column": null,
      "grid_gap": null,
      "grid_row": null,
      "grid_template_areas": null,
      "grid_template_columns": null,
      "grid_template_rows": null,
      "height": null,
      "justify_content": null,
      "justify_items": null,
      "left": null,
      "margin": null,
      "max_height": null,
      "max_width": null,
      "min_height": null,
      "min_width": null,
      "object_fit": null,
      "object_position": null,
      "order": null,
      "overflow": null,
      "overflow_x": null,
      "overflow_y": null,
      "padding": null,
      "right": null,
      "top": null,
      "visibility": null,
      "width": null
     }
    },
    "a43eeb4fab2f4574a675799c20580b38": {
     "model_module": "@jupyter-widgets/base",
     "model_module_version": "1.2.0",
     "model_name": "LayoutModel",
     "state": {
      "_model_module": "@jupyter-widgets/base",
      "_model_module_version": "1.2.0",
      "_model_name": "LayoutModel",
      "_view_count": null,
      "_view_module": "@jupyter-widgets/base",
      "_view_module_version": "1.2.0",
      "_view_name": "LayoutView",
      "align_content": null,
      "align_items": null,
      "align_self": null,
      "border": null,
      "bottom": null,
      "display": null,
      "flex": null,
      "flex_flow": null,
      "grid_area": null,
      "grid_auto_columns": null,
      "grid_auto_flow": null,
      "grid_auto_rows": null,
      "grid_column": null,
      "grid_gap": null,
      "grid_row": null,
      "grid_template_areas": null,
      "grid_template_columns": null,
      "grid_template_rows": null,
      "height": null,
      "justify_content": null,
      "justify_items": null,
      "left": null,
      "margin": null,
      "max_height": null,
      "max_width": null,
      "min_height": null,
      "min_width": null,
      "object_fit": null,
      "object_position": null,
      "order": null,
      "overflow": null,
      "overflow_x": null,
      "overflow_y": null,
      "padding": null,
      "right": null,
      "top": null,
      "visibility": null,
      "width": null
     }
    },
    "a4d590f7c6284bf9984a6a79b48a2023": {
     "model_module": "@jupyter-widgets/controls",
     "model_module_version": "1.5.0",
     "model_name": "HTMLModel",
     "state": {
      "_dom_classes": [],
      "_model_module": "@jupyter-widgets/controls",
      "_model_module_version": "1.5.0",
      "_model_name": "HTMLModel",
      "_view_count": null,
      "_view_module": "@jupyter-widgets/controls",
      "_view_module_version": "1.5.0",
      "_view_name": "HTMLView",
      "description": "",
      "description_tooltip": null,
      "layout": "IPY_MODEL_b696d9598ce74f9ab441748fb05b0986",
      "placeholder": "​",
      "style": "IPY_MODEL_34e2486eb5414ebe99c0a02fd13fae98",
      "value": "100%"
     }
    },
    "b696d9598ce74f9ab441748fb05b0986": {
     "model_module": "@jupyter-widgets/base",
     "model_module_version": "1.2.0",
     "model_name": "LayoutModel",
     "state": {
      "_model_module": "@jupyter-widgets/base",
      "_model_module_version": "1.2.0",
      "_model_name": "LayoutModel",
      "_view_count": null,
      "_view_module": "@jupyter-widgets/base",
      "_view_module_version": "1.2.0",
      "_view_name": "LayoutView",
      "align_content": null,
      "align_items": null,
      "align_self": null,
      "border": null,
      "bottom": null,
      "display": null,
      "flex": null,
      "flex_flow": null,
      "grid_area": null,
      "grid_auto_columns": null,
      "grid_auto_flow": null,
      "grid_auto_rows": null,
      "grid_column": null,
      "grid_gap": null,
      "grid_row": null,
      "grid_template_areas": null,
      "grid_template_columns": null,
      "grid_template_rows": null,
      "height": null,
      "justify_content": null,
      "justify_items": null,
      "left": null,
      "margin": null,
      "max_height": null,
      "max_width": null,
      "min_height": null,
      "min_width": null,
      "object_fit": null,
      "object_position": null,
      "order": null,
      "overflow": null,
      "overflow_x": null,
      "overflow_y": null,
      "padding": null,
      "right": null,
      "top": null,
      "visibility": null,
      "width": null
     }
    },
    "c153de30f42f4f509955a22e6726a179": {
     "model_module": "@jupyter-widgets/controls",
     "model_module_version": "1.5.0",
     "model_name": "HTMLModel",
     "state": {
      "_dom_classes": [],
      "_model_module": "@jupyter-widgets/controls",
      "_model_module_version": "1.5.0",
      "_model_name": "HTMLModel",
      "_view_count": null,
      "_view_module": "@jupyter-widgets/controls",
      "_view_module_version": "1.5.0",
      "_view_name": "HTMLView",
      "description": "",
      "description_tooltip": null,
      "layout": "IPY_MODEL_a2cf27f2ddc94d33880c9a1a9039d481",
      "placeholder": "​",
      "style": "IPY_MODEL_2c8be598d4974c598238a7cff27614d9",
      "value": " 2000/2000 [28:34&lt;00:00,  1.49it/s]"
     }
    },
    "fe41c112577b40c090792d6dbceda2bd": {
     "model_module": "@jupyter-widgets/base",
     "model_module_version": "1.2.0",
     "model_name": "LayoutModel",
     "state": {
      "_model_module": "@jupyter-widgets/base",
      "_model_module_version": "1.2.0",
      "_model_name": "LayoutModel",
      "_view_count": null,
      "_view_module": "@jupyter-widgets/base",
      "_view_module_version": "1.2.0",
      "_view_name": "LayoutView",
      "align_content": null,
      "align_items": null,
      "align_self": null,
      "border": null,
      "bottom": null,
      "display": null,
      "flex": null,
      "flex_flow": null,
      "grid_area": null,
      "grid_auto_columns": null,
      "grid_auto_flow": null,
      "grid_auto_rows": null,
      "grid_column": null,
      "grid_gap": null,
      "grid_row": null,
      "grid_template_areas": null,
      "grid_template_columns": null,
      "grid_template_rows": null,
      "height": null,
      "justify_content": null,
      "justify_items": null,
      "left": null,
      "margin": null,
      "max_height": null,
      "max_width": null,
      "min_height": null,
      "min_width": null,
      "object_fit": null,
      "object_position": null,
      "order": null,
      "overflow": null,
      "overflow_x": null,
      "overflow_y": null,
      "padding": null,
      "right": null,
      "top": null,
      "visibility": null,
      "width": null
     }
    }
   }
  }
 },
 "nbformat": 4,
 "nbformat_minor": 1
}
